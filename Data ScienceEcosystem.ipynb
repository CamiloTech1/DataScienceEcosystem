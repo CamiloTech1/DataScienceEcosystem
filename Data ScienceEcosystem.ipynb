{
  "metadata": {
    "kernelspec": {
      "name": "python",
      "display_name": "Python (Pyodide)",
      "language": "python"
    },
    "language_info": {
      "codemirror_mode": {
        "name": "python",
        "version": 3
      },
      "file_extension": ".py",
      "mimetype": "text/x-python",
      "name": "python",
      "nbconvert_exporter": "python",
      "pygments_lexer": "ipython3",
      "version": "3.8"
    }
  },
  "nbformat_minor": 5,
  "nbformat": 4,
  "cells": [
    {
      "id": "548a7fc3-e218-49a5-b6ec-4d520f109f00",
      "cell_type": "markdown",
      "source": "# Data Science Tools and Ecosystem",
      "metadata": {}
    },
    {
      "id": "e2233f70-12d0-4d0d-b40b-06f2f5d534d9",
      "cell_type": "code",
      "source": "",
      "metadata": {
        "trusted": true
      },
      "outputs": [],
      "execution_count": null
    },
    {
      "id": "090e5516-c0a5-4cba-852b-7798c4be40af",
      "cell_type": "markdown",
      "source": "in this notebook, data science tools and Ecosystem are summarized ",
      "metadata": {}
    },
    {
      "id": "358fd9ff-6e5d-40ac-99e0-15984ac4225c",
      "cell_type": "markdown",
      "source": "**objectives:**\n- know some libraries used for data science\n- Arithmetic expressions in Python\n- How to use arithmetic expression in python to convert minutes to hours",
      "metadata": {}
    },
    {
      "id": "93d2153d-3bc1-4bf0-a385-3fb09e65c173",
      "cell_type": "markdown",
      "source": "some of the popular languages that Data Scientist use are:\n1. Python\n2. SQL\n3. R",
      "metadata": {}
    },
    {
      "id": "22a75a79-d604-4ada-ac72-452f4ccb7458",
      "cell_type": "markdown",
      "source": "Some of the commonly used libraries by Data Science include:\n1. NumPy\n2. Pandas\n3. TensorFlow",
      "metadata": {}
    },
    {
      "id": "dded1823-ff1f-488a-8f0b-a8e20ff09fda",
      "cell_type": "markdown",
      "source": "|Data Science Tools|\n|------------------|\n|Apache Spark|\n|Apache Hadoop|\n|Spyder|",
      "metadata": {}
    },
    {
      "id": "bcb51e36-7701-4d11-ad2c-dee9426f7eab",
      "cell_type": "markdown",
      "source": "### Below are a few examples of evaluating arithmetic expressions in Python \n- 2+1\n- 5-2\n- 3*4\n- 72/2",
      "metadata": {}
    },
    {
      "id": "7f4f4ae5-c336-4759-af56-cc75b236db22",
      "cell_type": "code",
      "source": "(3*4)+5 #this is a simple arithmetic expression to multiply then add a integers",
      "metadata": {
        "trusted": true
      },
      "outputs": [
        {
          "execution_count": 6,
          "output_type": "execute_result",
          "data": {
            "text/plain": "17"
          },
          "metadata": {}
        }
      ],
      "execution_count": 6
    },
    {
      "id": "fafb8d17-d9e4-4696-a9b7-11bd66c7ddd3",
      "cell_type": "markdown",
      "source": "200/60 #this will convert 200 minutes in hours by diving by 60",
      "metadata": {}
    },
    {
      "id": "60ceff4a-53d2-488e-9325-2fb6aaa4a7e1",
      "cell_type": "markdown",
      "source": "## Author\nCamilo Gonzalez",
      "metadata": {
        "jp-MarkdownHeadingCollapsed": true
      }
    },
    {
      "id": "edda404d-4434-44b9-8bc8-55f7896dc7ef",
      "cell_type": "markdown",
      "source": "",
      "metadata": {}
    }
  ]
}